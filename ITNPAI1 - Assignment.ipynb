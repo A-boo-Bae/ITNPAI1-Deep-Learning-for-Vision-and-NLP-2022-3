{
 "cells": [
  {
   "cell_type": "markdown",
   "id": "7e35ca6d",
   "metadata": {},
   "source": [
    "\n",
    "ITNPAI1 - Deep Learning for Vision and NLP (2022/3)\n",
    "\n",
    "\n",
    "Image Classification"
   ]
  },
  {
   "cell_type": "markdown",
   "id": "8bb9b86c",
   "metadata": {},
   "source": [
    "# *Problem definition*\n",
    "\n",
    "Our project will focus on image Classification.\n",
    "Having images from two cities (Lagos and Port harcourt). We want to build a system that can recongize a given set of images according to the cars and trees from these cities. The question now is can we make a system that can possibly classify the image of cars from Lagos  and  trees from Port harcourt correctly?\n",
    " \n",
    "This is the idea behind our project, we want to build a system that is capable of reconging cars and trees from each city. The classification class here is cars and trees from Lagos and Port harcourt."
   ]
  },
  {
   "cell_type": "markdown",
   "id": "98bd3e0a",
   "metadata": {},
   "source": [
    "# Dataset creation"
   ]
  },
  {
   "cell_type": "code",
   "execution_count": 1,
   "id": "90ab6fc1",
   "metadata": {},
   "outputs": [],
   "source": [
    "#Import the necessary packages:\n",
    "import torch\n",
    "import torch.nn as nn\n",
    "import torch.optim as optim\n",
    "import torchvision.transforms as transforms\n",
    "import torchvision.datasets as datasets\n",
    "from torch.utils.data import DataLoader\n",
    "from torchvision.datasets import ImageFolder\n",
    "\n",
    "\n",
    "\n",
    "# importing the libraries\n",
    "import numpy as np\n",
    "import torchvision\n",
    "import matplotlib.pyplot as plt\n",
    "from time import time\n",
    "%matplotlib inline"
   ]
  },
  {
   "cell_type": "code",
   "execution_count": 2,
   "id": "c1109f51",
   "metadata": {
    "scrolled": true
   },
   "outputs": [],
   "source": [
    "#Set up the data for City A (Lagos)\n",
    "data_transforms = transforms.Compose([\n",
    "    transforms.Resize((224, 224)),\n",
    "    transforms.ToTensor(),\n",
    " transforms.Normalize((0.5, 0.5, 0.5), (0.5, 0.5, 0.5))\n",
    "])\n",
    "\n",
    "train_dataset = ImageFolder(root=r\"C:\\Users\\user\\Desktop\\DATA_IMAGE\\Train data\", transform=data_transforms)\n",
    "train_loader = DataLoader(train_dataset, batch_size=32, shuffle=True)\n",
    "test_dataset = ImageFolder(root=r\"C:\\Users\\user\\Desktop\\DATA_IMAGE\\Test data\", transform=data_transforms)\n",
    "test_loader = DataLoader(test_dataset, batch_size=32, shuffle=False)"
   ]
  },
  {
   "cell_type": "code",
   "execution_count": 3,
   "id": "745c903c",
   "metadata": {},
   "outputs": [],
   "source": [
    "#data for city B (Port Harcourt)\n",
    "# Load your dataset and split it into training and testing sets\n",
    "\n",
    "#Define the transformations to be applied to the input images:\n",
    "Data_transforms = transforms.Compose([\n",
    "    transforms.Resize((32, 32)),\n",
    "    transforms.ToTensor(),\n",
    " transforms.Normalize((0.5, 0.5, 0.5), (0.5, 0.5, 0.5))\n",
    "])\n",
    "train_data = datasets.ImageFolder(r\"C:\\Users\\user\\Desktop\\DATA_IMAGE\\Train data\", transform=Data_transforms)\n",
    "test_data = datasets.ImageFolder(r\"C:\\Users\\user\\Desktop\\DATA_IMAGE\\Test data\", transform=Data_transforms)\n",
    "train_load = torch.utils.data.DataLoader(train_data, batch_size=64, shuffle=True)\n",
    "test_load = torch.utils.data.DataLoader(test_data, batch_size=64, shuffle=False)"
   ]
  },
  {
   "cell_type": "markdown",
   "id": "b2c36937",
   "metadata": {},
   "source": [
    "Here, we are using the ImageFolder dataset from torchvision to load our data. We also apply some data augmentation techniques using transforms to resize the images, convert them to tensors, and normalize them. The batch size of 32 is used and the data is shuffled for the training set. \n",
    " \n",
    "The first part of the code defines the transforms to be applied to the input images. These transforms are necessary to prepare the images for the machine learning model. The transforms include resizing the image, converting it to a tensor, and normalizing the values. \n",
    "\n",
    "The second part of the code loads the images from the two cities\n",
    "into the training and testing datasets. It also specifies the batch size and whether the samples should be shuffled or not. Finally, it creates the data loaders for the training and testing sets.\n",
    "\n"
   ]
  },
  {
   "cell_type": "code",
   "execution_count": null,
   "id": "dc360700",
   "metadata": {},
   "outputs": [],
   "source": []
  }
 ],
 "metadata": {
  "kernelspec": {
   "display_name": "Python 3 (ipykernel)",
   "language": "python",
   "name": "python3"
  },
  "language_info": {
   "codemirror_mode": {
    "name": "ipython",
    "version": 3
   },
   "file_extension": ".py",
   "mimetype": "text/x-python",
   "name": "python",
   "nbconvert_exporter": "python",
   "pygments_lexer": "ipython3",
   "version": "3.9.13"
  }
 },
 "nbformat": 4,
 "nbformat_minor": 5
}
