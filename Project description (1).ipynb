{
 "cells": [
  {
   "attachments": {},
   "cell_type": "markdown",
   "id": "865dba0e",
   "metadata": {},
   "source": [
    "\n",
    "The goal of this project is to build an image classification model using 400 images from two cities: Lagos (City A) and Port Harcourt (City B). The images from City A are of cars, and the images from City B are of trees and was collected from the internet. We split the images into two datasets - 200 images for training and 200 images for testing. The images have been cleaned and resized for use in analysis. Our model will be trained to identify and recognize images of cars and trees from these two cities"
   ]
  }
 ],
 "metadata": {
  "kernelspec": {
   "display_name": "Python 3 (ipykernel)",
   "language": "python",
   "name": "python3"
  },
  "language_info": {
   "codemirror_mode": {
    "name": "ipython",
    "version": 3
   },
   "file_extension": ".py",
   "mimetype": "text/x-python",
   "name": "python",
   "nbconvert_exporter": "python",
   "pygments_lexer": "ipython3",
   "version": "3.9.13"
  }
 },
 "nbformat": 4,
 "nbformat_minor": 5
}
