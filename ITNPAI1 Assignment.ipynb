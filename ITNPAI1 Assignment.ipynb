{
 "cells": [
  {
   "cell_type": "markdown",
   "id": "c5b16ecd",
   "metadata": {},
   "source": [
    "\n",
    "ITNPAI1 - Deep Learning for Vision and NLP (2022/3)\n",
    "\n",
    "\n",
    "Image Classification"
   ]
  },
  {
   "cell_type": "markdown",
   "id": "204e2ec7",
   "metadata": {},
   "source": [
    "# *Problem definition*\n",
    "\n",
    "Our project will focus on image Classification.\n",
    "Having images from two cities (Lagos and Port harcourt). We want to build a system that can recongize a given set of images according to the cars and trees from these cities. The question now is can we make a system that can possibly classify the image of cars from Lagos  and  trees from Port harcourt correctly?\n",
    " \n",
    "This is the idea behind our project, we want to build a system that is capable of reconging cars and trees from each city. The classification class here is cars and trees from Lagos and Port harcourt."
   ]
  },
  {
   "cell_type": "code",
   "execution_count": null,
   "id": "36c3ddf2",
   "metadata": {},
   "outputs": [],
   "source": []
  }
 ],
 "metadata": {
  "kernelspec": {
   "display_name": "Python 3 (ipykernel)",
   "language": "python",
   "name": "python3"
  },
  "language_info": {
   "codemirror_mode": {
    "name": "ipython",
    "version": 3
   },
   "file_extension": ".py",
   "mimetype": "text/x-python",
   "name": "python",
   "nbconvert_exporter": "python",
   "pygments_lexer": "ipython3",
   "version": "3.9.13"
  }
 },
 "nbformat": 4,
 "nbformat_minor": 5
}
